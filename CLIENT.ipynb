{
 "cells": [
  {
   "cell_type": "code",
   "execution_count": 1,
   "metadata": {},
   "outputs": [
    {
     "name": "stdout",
     "output_type": "stream",
     "text": [
      "Recieved\n",
      "Recieved\n",
      "Recieved\n"
     ]
    },
    {
     "name": "stderr",
     "output_type": "stream",
     "text": [
      "\n",
      "KeyboardInterrupt\n",
      "\n"
     ]
    }
   ],
   "source": [
    "import socket\n",
    "s=socket.socket()\n",
    "s.bind(('localhost',8080))\n",
    "s.listen(5)\n",
    "c,addr=s.accept()\n",
    "while True:\n",
    "\ti=input(\"ENter a data:\")\n",
    "\tc.send(i.encode())\n",
    "\tack=c.recv(1024).decode()\n",
    "\tif ack:\n",
    "\t\tprint(ack)\n",
    "\t\tcontinue\n",
    "\telse:\n",
    "\t\tc.close()\n",
    "\t\tbreak"
   ]
  }
 ],
 "metadata": {
  "kernelspec": {
   "display_name": "Python 3",
   "language": "python",
   "name": "python3"
  },
  "language_info": {
   "codemirror_mode": {
    "name": "ipython",
    "version": 3
   },
   "file_extension": ".py",
   "mimetype": "text/x-python",
   "name": "python",
   "nbconvert_exporter": "python",
   "pygments_lexer": "ipython3",
   "version": "3.11.0"
  },
  "orig_nbformat": 4
 },
 "nbformat": 4,
 "nbformat_minor": 2
}
